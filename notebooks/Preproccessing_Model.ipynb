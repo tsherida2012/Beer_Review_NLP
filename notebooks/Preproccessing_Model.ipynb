{
 "cells": [
  {
   "cell_type": "code",
   "execution_count": 1,
   "id": "b47c1bce-692e-4dd4-b81e-bd8b7eef892e",
   "metadata": {},
   "outputs": [],
   "source": [
    "import pandas as pd\n",
    "import numpy as np\n",
    "import matplotlib.pyplot as plt\n",
    "import seaborn as sns\n",
    "import polars as pl"
   ]
  },
  {
   "cell_type": "code",
   "execution_count": 2,
   "id": "52b71939-8b5f-47c7-b314-4740d869a4e7",
   "metadata": {},
   "outputs": [],
   "source": [
    "import torch\n",
    "from sklearn.feature_extraction.text import TfidfVectorizer\n",
    "from sklearn.linear_model import LogisticRegression\n",
    "from sklearn.pipeline import make_pipeline\n",
    "from sklearn.metrics import accuracy_score, classification_report\n"
   ]
  },
  {
   "cell_type": "code",
   "execution_count": 3,
   "id": "8f99bff3-7346-415f-b642-ac37552e6c92",
   "metadata": {},
   "outputs": [],
   "source": [
    "df = pd.read_csv('cleaned_beer.csv')"
   ]
  },
  {
   "cell_type": "code",
   "execution_count": 4,
   "id": "2cbf7cb2",
   "metadata": {},
   "outputs": [],
   "source": [
    "import pandas as pd\n",
    "from textblob import TextBlob\n",
    "\n",
    "def apply_textblob_sentiment(df):\n",
    "    \"\"\"\n",
    "    Applies TextBlob sentiment analysis to the processed review text in the DataFrame.\n",
    "\n",
    "    Parameters:\n",
    "    df (pd.DataFrame or pl.DataFrame): DataFrame containing a column named 'processed_review_text'.\n",
    "\n",
    "    Returns:\n",
    "    pd.DataFrame: DataFrame with added 'textblob_polarity' and 'sentiment' columns.\n",
    "    \"\"\"\n",
    "    # Convert to pandas if the DataFrame is not already in pandas format\n",
    "    if not isinstance(df, pd.DataFrame):\n",
    "        df = df.to_pandas()\n",
    "    \n",
    "    # Apply the TextBlob sentiment analysis\n",
    "    df['textblob_polarity'] = df['processed_review_text'].apply(lambda text: TextBlob(text).sentiment.polarity)\n",
    "    \n",
    "    # Define positive and negative sentiment based on polarity\n",
    "    df['sentiment'] = df['textblob_polarity'].apply(lambda x: 'positive' if x > 0 else 'negative')\n",
    "    \n",
    "    return df"
   ]
  },
  {
   "cell_type": "code",
   "execution_count": 5,
   "id": "c3b328fd",
   "metadata": {},
   "outputs": [],
   "source": [
    "df = apply_textblob_sentiment(df)"
   ]
  },
  {
   "cell_type": "markdown",
   "id": "3ad64c3f",
   "metadata": {},
   "source": [
    "### Sentiment Analysis with TextBlob and Polars\n",
    "\n",
    "In this section, sentiment analysis was used on beer reviews to classify them as positive or negative based on their textual content. We utilized the `TextBlob` library, which is a simple but accurate tool for processing textual data. The key steps in this process are as follows:\n",
    "\n",
    "1. **Sentiment Analysis with TextBlob**: TextBlob was applied to each review text to calculate the sentiment polarity. The polarity score, ranging from -1 (negative) to +1 (positive), indicates the sentiment of the review. A positive score suggests a positive sentiment, while a negative score indicates a negative sentiment.\n",
    "\n",
    "2. **Sentiment Classification**: Based on the polarity score,each review was classified as either 'positive' or 'negative'. This classification was added as a new column in the DataFrame named `sentiment`.\n",
    "\n",
    "This analysis is for understanding customer preferences in the beer market, enabling us to extract valuable insights from the sentiment expressed in reviews. By categorizing reviews into positive and negative sentiments, we can further investigate patterns and correlations that may influence customer satisfaction and market trends."
   ]
  },
  {
   "cell_type": "code",
   "execution_count": 6,
   "id": "c2226509",
   "metadata": {},
   "outputs": [
    {
     "data": {
      "text/plain": [
       "Index(['Unnamed: 0', 'beer_ABV', 'beer_beerId', 'beer_brewerId', 'beer_name',\n",
       "       'beer_style', 'review_appearance', 'review_palette', 'review_overall',\n",
       "       'review_taste', 'review_profileName', 'review_aroma', 'review_text',\n",
       "       'review_time', 'cleaned_review_text', 'processed_review_text',\n",
       "       'textblob_polarity', 'sentiment'],\n",
       "      dtype='object')"
      ]
     },
     "execution_count": 6,
     "metadata": {},
     "output_type": "execute_result"
    }
   ],
   "source": [
    "df.columns"
   ]
  },
  {
   "cell_type": "code",
   "execution_count": 7,
   "id": "2bccd907",
   "metadata": {},
   "outputs": [],
   "source": [
    "X = df['processed_review_text']  # Feature: the review text\n",
    "y = df['sentiment']"
   ]
  },
  {
   "cell_type": "code",
   "execution_count": 8,
   "id": "543ce7d6",
   "metadata": {
    "scrolled": true
   },
   "outputs": [],
   "source": [
    "from sklearn.model_selection import train_test_split\n",
    "# Split the data into training and test sets\n",
    "X_train, X_test, y_train, y_test = train_test_split(\n",
    "    df['processed_review_text'], df['sentiment'], test_size=0.2, random_state=42, stratify=df['sentiment']\n",
    ")"
   ]
  },
  {
   "cell_type": "code",
   "execution_count": 9,
   "id": "95078440",
   "metadata": {},
   "outputs": [],
   "source": [
    "from sklearn.utils.class_weight import compute_class_weight\n",
    "\n",
    "# Convert sentiments to a binary format if needed\n",
    "y_train_binary = np.where(y_train == 'positive', 1, 0)\n",
    "\n",
    "# Calculate class weights\n",
    "classes = np.unique(y_train_binary)\n",
    "class_weights = compute_class_weight('balanced', classes=classes, y=y_train_binary)\n",
    "class_weight_dict = dict(zip(classes, class_weights))"
   ]
  },
  {
   "cell_type": "markdown",
   "id": "aded7da1",
   "metadata": {},
   "source": [
    "### Handling Imbalanced Classes with `compute_class_weight`\n",
    "\n",
    "Due to more positive than negative review, I found a way to make the balance for the model out with: \n",
    "\n",
    "1. **Binary Conversion of Sentiments**: The sentiment labels in the training data (`y_train`) were initially categorical ('positive' and 'negative'). We converted these into a binary format, where 'positive' was mapped to `1` and 'negative' to `0`. This binary conversion facilitates the calculation of class weights and the training of binary classification models.\n",
    "\n",
    "2. **Class Weight Calculation**: Using the `compute_class_weight` function from `sklearn.utils.class_weight`, we calculated the weights for each class. This function computes weights inversely proportional to class frequencies, ensuring that the minority class receives a higher weight, thereby reducing the bias towards the majority class during model training.\n",
    "\n",
    "3. **Class Weight Dictionary**: The calculated class weights were stored in a dictionary (`class_weight_dict`), mapping each class label (`0` or `1`) to its corresponding weight. This dictionary can be passed as an argument to the model's training process to balance the class distribution and improve the model's ability to generalize across all classes.\n",
    " Since the reviews are skewed positive I found an answer by applying class weights, which enhance the model's performance in predicting minority class instances, leading to more robust and accurate sentiment classification.\n"
   ]
  },
  {
   "cell_type": "markdown",
   "id": "4c5864d0",
   "metadata": {},
   "source": [
    "### Regression is used first for its simplicity and effectiveness in binary classification tasks."
   ]
  },
  {
   "cell_type": "code",
   "execution_count": 10,
   "id": "1259ae3a",
   "metadata": {},
   "outputs": [
    {
     "name": "stdout",
     "output_type": "stream",
     "text": [
      "Accuracy: 0.9773384763741563\n",
      "Classification Report:\n",
      "              precision    recall  f1-score   support\n",
      "\n",
      "           0       0.94      0.67      0.78      6385\n",
      "           1       0.98      1.00      0.99     99389\n",
      "\n",
      "    accuracy                           0.98    105774\n",
      "   macro avg       0.96      0.83      0.88    105774\n",
      "weighted avg       0.98      0.98      0.98    105774\n",
      "\n",
      "Confusion Matrix:\n",
      "[[ 4252  2133]\n",
      " [  264 99125]]\n"
     ]
    }
   ],
   "source": [
    "from sklearn.linear_model import LogisticRegression\n",
    "from sklearn.model_selection import train_test_split\n",
    "from sklearn.pipeline import Pipeline\n",
    "from sklearn.feature_extraction.text import TfidfVectorizer\n",
    "from sklearn.linear_model import LogisticRegression\n",
    "from sklearn.metrics import accuracy_score, classification_report, confusion_matrix\n",
    "\n",
    "from sklearn.feature_extraction.text import TfidfVectorizer\n",
    "from sklearn.metrics import accuracy_score, classification_report, confusion_matrix\n",
    "\n",
    "y_test_binary = np.where(y_test == 'positive', 1, 0)\n",
    "\n",
    "# Define class weight dictionary or use 'balanced'\n",
    "# Example:\n",
    "class_weight_dict = {0: 1, 1: 1}  # Adjust weights based on class distribution if necessary\n",
    "\n",
    "# Create a pipeline with TfidfVectorizer and LogisticRegression\n",
    "pipeline = Pipeline([\n",
    "    ('tfidf', TfidfVectorizer(max_features=5000, min_df=3, max_df=0.7)),\n",
    "    ('clf', LogisticRegression(solver='saga', max_iter=100, n_jobs=-1, class_weight=class_weight_dict))\n",
    "])\n",
    "\n",
    "# Train the model using binary labels and class weights\n",
    "pipeline.fit(X_train, y_train_binary)\n",
    "\n",
    "# Make predictions\n",
    "y_pred = pipeline.predict(X_test)\n",
    "\n",
    "# Calculate accuracy\n",
    "accuracy = accuracy_score(y_test_binary, y_pred)\n",
    "print(f\"Accuracy: {accuracy}\")\n",
    "\n",
    "# Generate classification report\n",
    "report = classification_report(y_test_binary, y_pred)\n",
    "print(\"Classification Report:\")\n",
    "print(report)\n",
    "\n",
    "#  Regression is often chosen for its simplicity and effectiveness in binary classification tasks.Generate confusion matrix\n",
    "conf_matrix = confusion_matrix(y_test_binary, y_pred)\n",
    "print(\"Confusion Matrix:\")\n",
    "print(conf_matrix)"
   ]
  },
  {
   "cell_type": "code",
   "execution_count": null,
   "id": "eff4e55c",
   "metadata": {},
   "outputs": [],
   "source": []
  },
  {
   "cell_type": "code",
   "execution_count": null,
   "id": "b5daa8b9",
   "metadata": {},
   "outputs": [],
   "source": [
    "#### Accurate but not a accurate as the SVM model"
   ]
  },
  {
   "cell_type": "code",
   "execution_count": 24,
   "id": "53edea37",
   "metadata": {},
   "outputs": [
    {
     "name": "stdout",
     "output_type": "stream",
     "text": [
      "Requirement already satisfied: imbalanced-learn in c:\\users\\tsher\\anaconda3\\lib\\site-packages (0.12.0)\n",
      "Requirement already satisfied: numpy>=1.17.3 in c:\\users\\tsher\\anaconda3\\lib\\site-packages (from imbalanced-learn) (1.26.4)\n",
      "Requirement already satisfied: scipy>=1.5.0 in c:\\users\\tsher\\anaconda3\\lib\\site-packages (from imbalanced-learn) (1.11.3)\n",
      "Requirement already satisfied: scikit-learn>=1.0.2 in c:\\users\\tsher\\anaconda3\\lib\\site-packages (from imbalanced-learn) (1.3.2)\n",
      "Requirement already satisfied: joblib>=1.1.1 in c:\\users\\tsher\\anaconda3\\lib\\site-packages (from imbalanced-learn) (1.4.0)\n",
      "Requirement already satisfied: threadpoolctl>=2.0.0 in c:\\users\\tsher\\anaconda3\\lib\\site-packages (from imbalanced-learn) (3.4.0)\n"
     ]
    }
   ],
   "source": [
    "!pip install imbalanced-learn\n"
   ]
  },
  {
   "cell_type": "markdown",
   "id": "a100e268",
   "metadata": {},
   "source": [
    "#### SMOTE for a more balanced sampling: Used for oversampling the minority class in an imbalanced dataset to create a balanced class distribution."
   ]
  },
  {
   "cell_type": "code",
   "execution_count": 26,
   "id": "38ec2fbc",
   "metadata": {},
   "outputs": [
    {
     "name": "stderr",
     "output_type": "stream",
     "text": [
      "C:\\Users\\tsher\\anaconda3\\Lib\\site-packages\\threadpoolctl.py:1223: RuntimeWarning: \n",
      "Found Intel OpenMP ('libiomp') and LLVM OpenMP ('libomp') loaded at\n",
      "the same time. Both libraries are known to be incompatible and this\n",
      "can cause random crashes or deadlocks on Linux when loaded in the\n",
      "same Python program.\n",
      "Using threadpoolctl may cause crashes or deadlocks. For more\n",
      "information and possible workarounds, please see\n",
      "    https://github.com/joblib/threadpoolctl/blob/master/multiple_openmp.md\n",
      "\n",
      "  warnings.warn(msg, RuntimeWarning)\n"
     ]
    },
    {
     "name": "stdout",
     "output_type": "stream",
     "text": [
      "Random Forest Accuracy: 0.8898595117892866\n",
      "Random Forest Classification Report:\n",
      "               precision    recall  f1-score   support\n",
      "\n",
      "           0       0.27      0.49      0.35      6385\n",
      "           1       0.97      0.92      0.94     99389\n",
      "\n",
      "    accuracy                           0.89    105774\n",
      "   macro avg       0.62      0.70      0.64    105774\n",
      "weighted avg       0.92      0.89      0.90    105774\n",
      "\n"
     ]
    },
    {
     "data": {
      "image/png": "[encoded data removed]",
      "text/plain": [
       "<Figure size 800x600 with 2 Axes>"
      ]
     },
     "metadata": {},
     "output_type": "display_data"
    }
   ],
   "source": [
    "import numpy as np\n",
    "from sklearn.metrics import accuracy_score, classification_report, confusion_matrix\n",
    "from sklearn.ensemble import RandomForestClassifier\n",
    "from sklearn.feature_extraction.text import TfidfVectorizer\n",
    "from imblearn.over_sampling import SMOTE\n",
    "from imblearn.pipeline import Pipeline as ImbPipeline\n",
    "import seaborn as sns\n",
    "import matplotlib.pyplot as plt\n",
    "\n",
    "# Convert y_test to binary format for evaluation\n",
    "y_test_binary = np.where(y_test == 'positive', 1, 0)\n",
    "\n",
    "# Step 1: Vectorize the text data\n",
    "tfidf = TfidfVectorizer(max_features=10000, min_df=5, max_df=0.7)\n",
    "X_train_tfidf = tfidf.fit_transform(X_train)\n",
    "X_test_tfidf = tfidf.transform(X_test)\n",
    "\n",
    "# Step 2: Apply SMOTE to balance the classes\n",
    "smote = SMOTE(random_state=42)\n",
    "X_train_resampled, y_train_resampled = smote.fit_resample(X_train_tfidf, y_train_binary)\n",
    "\n",
    "# Step 3: Train the Random Forest model on the resampled data\n",
    "rf = RandomForestClassifier(n_estimators=50, max_depth=10, bootstrap=True, n_jobs=-1, class_weight=class_weight_dict)\n",
    "rf.fit(X_train_resampled, y_train_resampled)\n",
    "\n",
    "# Make predictions on X_test\n",
    "y_pred_rf = rf.predict(X_test_tfidf)\n",
    "\n",
    "# Evaluate the model\n",
    "accuracy_rf = accuracy_score(y_test_binary, y_pred_rf)\n",
    "report_rf = classification_report(y_test_binary, y_pred_rf)\n",
    "\n",
    "# Print the results\n",
    "print(\"Random Forest Accuracy:\", accuracy_rf)\n",
    "print(\"Random Forest Classification Report:\\n\", report_rf)\n",
    "\n",
    "# Generate and display the confusion matrix\n",
    "conf_matrix = confusion_matrix(y_test_binary, y_pred_rf)\n",
    "plt.figure(figsize=(8, 6))\n",
    "sns.heatmap(conf_matrix, annot=True, fmt='d', cmap='Blues', cbar=True,\n",
    "            xticklabels=['Predicted Negative', 'Predicted Positive'],\n",
    "            yticklabels=['Actual Negative', 'Actual Positive'])\n",
    "\n",
    "plt.title('Confusion Matrix')\n",
    "plt.xlabel('Predicted Labels')\n",
    "plt.ylabel('Actual Labels')\n",
    "plt.show()\n"
   ]
  },
  {
   "cell_type": "markdown",
   "id": "4b93d828",
   "metadata": {},
   "source": [
    "### Negative reviews are not being analyzed so it should not be considered"
   ]
  },
  {
   "cell_type": "code",
   "execution_count": 12,
   "id": "78d44253",
   "metadata": {},
   "outputs": [
    {
     "name": "stdout",
     "output_type": "stream",
     "text": [
      "Ensemble Accuracy: 0.9396921738801596\n",
      "Ensemble Classification Report:\n",
      "               precision    recall  f1-score   support\n",
      "\n",
      "           0       0.88      0.00      0.00      6385\n",
      "           1       0.94      1.00      0.97     99389\n",
      "\n",
      "    accuracy                           0.94    105774\n",
      "   macro avg       0.91      0.50      0.49    105774\n",
      "weighted avg       0.94      0.94      0.91    105774\n",
      "\n"
     ]
    },
    {
     "data": {
      "image/png": "[encoded data removed]",
      "text/plain": [
       "<Figure size 800x600 with 2 Axes>"
      ]
     },
     "metadata": {},
     "output_type": "display_data"
    }
   ],
   "source": [
    "from sklearn.ensemble import BaggingClassifier\n",
    "from sklearn.linear_model import LogisticRegression\n",
    "from sklearn.model_selection import train_test_split\n",
    "from sklearn.metrics import accuracy_score, classification_report\n",
    "from sklearn.tree import DecisionTreeClassifier\n",
    "# Assuming class_weight_dict and other necessary variables are defined\n",
    "# Assuming X_train, y_train_binary, X_test, and y_test are already prepared\n",
    "\n",
    "# Update the parameter name in BaggingClassifier\n",
    "ensemble_pipeline = Pipeline([\n",
    "    ('tfidf', TfidfVectorizer(max_features=5000)),\n",
    "    ('clf', BaggingClassifier(\n",
    "        estimator=DecisionTreeClassifier(max_depth=5, class_weight=class_weight_dict),\n",
    "        n_estimators=10,  # Number of trees in the bagging ensemble\n",
    "        max_samples=0.5,  # Each tree uses 50% of data\n",
    "        max_features=0.5,  # Each tree uses 50% of features\n",
    "        n_jobs=-1  # Train trees in parallel\n",
    "    ))\n",
    "])\n",
    "\n",
    "# Train the ensemble model\n",
    "ensemble_pipeline.fit(X_train, y_train_binary)\n",
    "\n",
    "# Make predictions with the ensemble\n",
    "y_pred_ensemble = ensemble_pipeline.predict(X_test)\n",
    "\n",
    "# Convert y_test to binary format for evaluation\n",
    "y_test_binary = np.where(y_test == 'positive', 1, 0)\n",
    "\n",
    "# Evaluate the ensemble model\n",
    "accuracy_ensemble = accuracy_score(y_test_binary, y_pred_ensemble)\n",
    "report_ensemble = classification_report(y_test_binary, y_pred_ensemble)\n",
    "# Create a heatmap\n",
    "plt.figure(figsize=(8, 6))\n",
    "sns.heatmap(conf_matrix, annot=True, fmt='d', cmap='Blues', cbar=True,\n",
    "            xticklabels=['Predicted Negative', 'Predicted Positive'],\n",
    "            yticklabels=['Actual Negative', 'Actual Positive'])\n",
    "\n",
    "\n",
    "\n",
    "print(\"Ensemble Accuracy:\", accuracy_ensemble)\n",
    "print(\"Ensemble Classification Report:\\n\", report_ensemble)"
   ]
  },
  {
   "cell_type": "code",
   "execution_count": 15,
   "id": "a3b9198d",
   "metadata": {},
   "outputs": [],
   "source": [
    "from tensorflow.keras.preprocessing.text import Tokenizer\n",
    "from tensorflow.keras.preprocessing.sequence import pad_sequences\n",
    "\n",
    "# Define tokenizer with the same number of max features\n",
    "tokenizer = Tokenizer(num_words=10000)\n",
    "tokenizer.fit_on_texts(X_train)\n",
    "X_train_seq = tokenizer.texts_to_sequences(X_train)\n",
    "X_test_seq = tokenizer.texts_to_sequences(X_test)\n",
    "\n",
    "# Pad sequences to ensure uniform input size\n",
    "MAX_LEN = 200  # Same as your MAX_LEN in model\n",
    "X_train_pad = pad_sequences(X_train_seq, maxlen=MAX_LEN)\n",
    "X_test_pad = pad_sequences(X_test_seq, maxlen=MAX_LEN)"
   ]
  },
  {
   "cell_type": "code",
   "execution_count": 16,
   "id": "d67adb7a",
   "metadata": {
    "scrolled": true
   },
   "outputs": [
    {
     "name": "stdout",
     "output_type": "stream",
     "text": [
      "Epoch 1/10\n"
     ]
    },
    {
     "name": "stderr",
     "output_type": "stream",
     "text": [
      "C:\\Users\\tsher\\anaconda3\\Lib\\site-packages\\keras\\src\\layers\\core\\embedding.py:90: UserWarning: Argument `input_length` is deprecated. Just remove it.\n",
      "  warnings.warn(\n"
     ]
    },
    {
     "name": "stdout",
     "output_type": "stream",
     "text": [
      "\u001b[1m827/827\u001b[0m \u001b[32m━━━━━━━━━━━━━━━━━━━━\u001b[0m\u001b[37m\u001b[0m \u001b[1m256s\u001b[0m 306ms/step - accuracy: 0.9464 - loss: 0.1887\n",
      "Epoch 2/10\n",
      "\u001b[1m827/827\u001b[0m \u001b[32m━━━━━━━━━━━━━━━━━━━━\u001b[0m\u001b[37m\u001b[0m \u001b[1m260s\u001b[0m 314ms/step - accuracy: 0.9834 - loss: 0.0421\n",
      "Epoch 3/10\n",
      "\u001b[1m827/827\u001b[0m \u001b[32m━━━━━━━━━━━━━━━━━━━━\u001b[0m\u001b[37m\u001b[0m \u001b[1m274s\u001b[0m 332ms/step - accuracy: 0.9884 - loss: 0.0304\n",
      "Epoch 4/10\n",
      "\u001b[1m827/827\u001b[0m \u001b[32m━━━━━━━━━━━━━━━━━━━━\u001b[0m\u001b[37m\u001b[0m \u001b[1m263s\u001b[0m 317ms/step - accuracy: 0.9916 - loss: 0.0223\n",
      "Epoch 5/10\n",
      "\u001b[1m827/827\u001b[0m \u001b[32m━━━━━━━━━━━━━━━━━━━━\u001b[0m\u001b[37m\u001b[0m \u001b[1m262s\u001b[0m 317ms/step - accuracy: 0.9939 - loss: 0.0165\n",
      "Epoch 6/10\n",
      "\u001b[1m827/827\u001b[0m \u001b[32m━━━━━━━━━━━━━━━━━━━━\u001b[0m\u001b[37m\u001b[0m \u001b[1m274s\u001b[0m 332ms/step - accuracy: 0.9955 - loss: 0.0126\n",
      "Epoch 7/10\n",
      "\u001b[1m827/827\u001b[0m \u001b[32m━━━━━━━━━━━━━━━━━━━━\u001b[0m\u001b[37m\u001b[0m \u001b[1m281s\u001b[0m 340ms/step - accuracy: 0.9967 - loss: 0.0094\n",
      "Epoch 8/10\n",
      "\u001b[1m827/827\u001b[0m \u001b[32m━━━━━━━━━━━━━━━━━━━━\u001b[0m\u001b[37m\u001b[0m \u001b[1m275s\u001b[0m 332ms/step - accuracy: 0.9971 - loss: 0.0084\n",
      "Epoch 9/10\n",
      "\u001b[1m827/827\u001b[0m \u001b[32m━━━━━━━━━━━━━━━━━━━━\u001b[0m\u001b[37m\u001b[0m \u001b[1m275s\u001b[0m 333ms/step - accuracy: 0.9976 - loss: 0.0069\n",
      "Epoch 10/10\n",
      "\u001b[1m827/827\u001b[0m \u001b[32m━━━━━━━━━━━━━━━━━━━━\u001b[0m\u001b[37m\u001b[0m \u001b[1m286s\u001b[0m 346ms/step - accuracy: 0.9979 - loss: 0.0063\n"
     ]
    },
    {
     "data": {
      "text/plain": [
       "<keras.src.callbacks.history.History at 0x24f0540c590>"
      ]
     },
     "execution_count": 16,
     "metadata": {},
     "output_type": "execute_result"
    }
   ],
   "source": [
    "from tensorflow.keras.models import Sequential\n",
    "from tensorflow.keras.layers import Embedding, GRU, Dense, Dropout\n",
    "from tensorflow.keras.optimizers import Nadam\n",
    "import tensorflow as tf\n",
    "\n",
    "# Enable mixed precision\n",
    "tf.keras.mixed_precision.set_global_policy('mixed_float16')\n",
    "\n",
    "# Build the model\n",
    "model = Sequential([\n",
    "    Embedding(input_dim=10000, output_dim=128, input_length=MAX_LEN, dtype='float32'),\n",
    "    GRU(24, return_sequences=False),  # Reduce GRU units to make it faster\n",
    "    Dense(64, activation='relu'),\n",
    "    Dropout(0.2),  # Slightly reduced dropout to make training faster\n",
    "    Dense(1, activation='sigmoid', dtype='float32')\n",
    "])\n",
    "\n",
    "# Compile the model with Nadam optimizer\n",
    "model.compile(optimizer=Nadam(), loss='binary_crossentropy', metrics=['accuracy'])\n",
    "\n",
    "# Prepare the dataset using tf.data for more efficient loading\n",
    "train_dataset = tf.data.Dataset.from_tensor_slices((X_train_pad, y_train_binary))\n",
    "train_dataset = train_dataset.shuffle(buffer_size=1024).batch(512).prefetch(tf.data.experimental.AUTOTUNE)\n",
    "\n",
    "# Fit the model\n",
    "model.fit(train_dataset, epochs=10, class_weight=class_weight_dict)\n"
   ]
  },
  {
   "cell_type": "code",
   "execution_count": 27,
   "id": "9b7d9266",
   "metadata": {},
   "outputs": [
    {
     "name": "stdout",
     "output_type": "stream",
     "text": [
      "\u001b[1m3306/3306\u001b[0m \u001b[32m━━━━━━━━━━━━━━━━━━━━\u001b[0m\u001b[37m\u001b[0m \u001b[1m48s\u001b[0m 15ms/step\n",
      "Accuracy: 0.9810\n"
     ]
    }
   ],
   "source": [
    "from sklearn.metrics import accuracy_score\n",
    "\n",
    "# Predict on the test set\n",
    "y_pred = model.predict(X_test_pad)\n",
    "y_pred_binary = (y_pred > 0.5).astype(\"int32\")\n",
    "\n",
    "# Calculate accuracy\n",
    "accuracy = accuracy_score(y_test_binary, y_pred_binary)\n",
    "print(f\"Accuracy: {accuracy:.4f}\")"
   ]
  },
  {
   "cell_type": "code",
   "execution_count": 13,
   "id": "6f931a5f",
   "metadata": {},
   "outputs": [
    {
     "name": "stdout",
     "output_type": "stream",
     "text": [
      "SVM Accuracy: 0.9848923175827708\n",
      "SVM Classification Report:\n",
      "               precision    recall  f1-score   support\n",
      "\n",
      "           0       0.91      0.83      0.87      6385\n",
      "           1       0.99      0.99      0.99     99389\n",
      "\n",
      "    accuracy                           0.98    105774\n",
      "   macro avg       0.95      0.91      0.93    105774\n",
      "weighted avg       0.98      0.98      0.98    105774\n",
      "\n"
     ]
    },
    {
     "data": {
      "image/png": "[encoded data removed]",
      "text/plain": [
       "<Figure size 800x600 with 2 Axes>"
      ]
     },
     "metadata": {},
     "output_type": "display_data"
    }
   ],
   "source": [
    "from sklearn.pipeline import Pipeline\n",
    "from sklearn.svm import LinearSVC\n",
    "# Convert y_test to binary format\n",
    "y_test_binary = np.where(y_test == 'positive', 1, 0)\n",
    "\n",
    "# Create a pipeline with TfidfVectorizer and LinearSVC\n",
    "svm_pipeline = Pipeline([\n",
    "    ('tfidf', TfidfVectorizer(max_features=10000, min_df=5, max_df=0.7)),\n",
    "    ('clf', LinearSVC(dual=False, class_weight=class_weight_dict))  # Include class weights\n",
    "])\n",
    "\n",
    "# Train the SVM model using binary labels and class weights\n",
    "svm_pipeline.fit(X_train, y_train_binary)\n",
    "\n",
    "# Make predictions\n",
    "y_pred_svm = svm_pipeline.predict(X_test)\n",
    "\n",
    "# Evaluate the model using binary formatted y_test\n",
    "accuracy_svm = accuracy_score(y_test_binary, y_pred_svm)\n",
    "report_svm = classification_report(y_test_binary, y_pred_svm)\n",
    "\n",
    "# Assuming y_test_binary and y_pred are already defined\n",
    "conf_matrix = confusion_matrix(y_test_binary, y_pred)\n",
    "\n",
    "# Create a heatmap\n",
    "plt.figure(figsize=(8, 6))\n",
    "sns.heatmap(conf_matrix, annot=True, fmt='d', cmap='Blues', cbar=True,\n",
    "            xticklabels=['Predicted Negative', 'Predicted Positive'],\n",
    "            yticklabels=['Actual Negative', 'Actual Positive'])\n",
    "\n",
    "print(\"SVM Accuracy:\", accuracy_svm)\n",
    "print(\"SVM Classification Report:\\n\", report_svm)"
   ]
  },
  {
   "cell_type": "markdown",
   "id": "5e1f9ffc",
   "metadata": {},
   "source": [
    "# SVM takes into account negative and positive, The CNN may be little more accurate. But isnt as efficient and it has black box quality to its computation, SVM is the winner due to the fact it is efficient and and easily understood.It also is nearly as accurate as the CNN."
   ]
  },
  {
   "cell_type": "code",
   "execution_count": 14,
   "id": "fa489ec3-7893-49fc-b421-b045d81a8a19",
   "metadata": {},
   "outputs": [
    {
     "name": "stdout",
     "output_type": "stream",
     "text": [
      "Cross-Validated Accuracy: 0.98 (+/- 0.00)\n"
     ]
    }
   ],
   "source": [
    "from sklearn.model_selection import cross_val_score\n",
    "import numpy as np\n",
    "\n",
    "# Assuming the pipeline 'svm_pipeline' is already defined and set up as per your previous code\n",
    "\n",
    "# Perform cross-validation\n",
    "scores = cross_val_score(svm_pipeline, X_train, y_train_binary, cv=5, scoring='accuracy')\n",
    "\n",
    "# Calculate the average and standard deviation of the accuracy\n",
    "average_accuracy = np.mean(scores)\n",
    "std_dev_accuracy = np.std(scores)\n",
    "\n",
    "print(\"Cross-Validated Accuracy: %0.2f (+/- %0.2f)\" % (average_accuracy, std_dev_accuracy * 2))\n"
   ]
  },
  {
   "cell_type": "code",
   "execution_count": 28,
   "id": "492d0a9d",
   "metadata": {},
   "outputs": [
    {
     "data": {
      "text/plain": [
       "['svm_pipeline.pkl']"
      ]
     },
     "execution_count": 28,
     "metadata": {},
     "output_type": "execute_result"
    }
   ],
   "source": [
    "import joblib\n",
    "\n",
    "# Save the trained SVM pipeline to a file\n",
    "joblib.dump(svm_pipeline, 'svm_pipeline.pkl')"
   ]
  },
  {
   "cell_type": "code",
   "execution_count": null,
   "id": "a57febdb",
   "metadata": {},
   "outputs": [],
   "source": []
  }
 ],
 "metadata": {
  "kernelspec": {
   "display_name": "Python 3 (ipykernel)",
   "language": "python",
   "name": "python3"
  },
  "language_info": {
   "codemirror_mode": {
    "name": "ipython",
    "version": 3
   },
   "file_extension": ".py",
   "mimetype": "text/x-python",
   "name": "python",
   "nbconvert_exporter": "python",
   "pygments_lexer": "ipython3",
   "version": "3.11.8"
  }
 },
 "nbformat": 4,
 "nbformat_minor": 5
}
